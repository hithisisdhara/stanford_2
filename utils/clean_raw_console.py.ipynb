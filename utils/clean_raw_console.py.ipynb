{
 "cells": [
  {
   "cell_type": "code",
   "execution_count": null,
   "metadata": {
    "collapsed": true
   },
   "outputs": [],
   "source": [
    "def write_clean_console(readfile,writepath):\n",
    "    def process_line(line):\n",
    "        if ',' in line:\n",
    "            t1,t2 = line.split(\",\")\n",
    "        else:\n",
    "            t1,t2 = line.split(\"train\")\n",
    "        t1 = t1.split(\":\")[-1]\n",
    "        t2 = t2[:-1].split(\":\")[-1]\n",
    "        return t1+\",\"+t2\n",
    "    \n",
    "    f = open(writepath,'a')\n",
    "    f.write('epoch,train_loss,train_acc,validation_loss,validation_acc,test_loss,test_acc\\n')\n",
    "    f.close()\n",
    "    count = 0\n",
    "    build_up = \"\"\n",
    "    f = open(readfile)\n",
    "    for line in f:\n",
    "        if 'epoch' not in line:\n",
    "            if 'train avg_loss' in line:\n",
    "                if build_up:\n",
    "                    f = open(writepath,'a')\n",
    "                    f.write(build_up[:-1]+'\\n')\n",
    "                    f.close()\n",
    "                count += 1\n",
    "                build_up = str(count)+\",\"+ process_line(line)+\",\"\n",
    "\n",
    "            if 'dev avg_loss' in line or 'test avg_loss' in line:\n",
    "                 # this is the line we want to wrie \n",
    "                    build_up+= process_line(line)+\",\"\n",
    "            #if or 'New Best Dev' in line:\n",
    "    if build_up:\n",
    "        f = open(writepath,'a')\n",
    "        f.write(build_up[:-1]+'\\n')\n",
    "        f.close()\n",
    "        print 'done!'"
   ]
  }
 ],
 "metadata": {
  "anaconda-cloud": {},
  "kernelspec": {
   "display_name": "Python [default]",
   "language": "python",
   "name": "python2"
  },
  "language_info": {
   "codemirror_mode": {
    "name": "ipython",
    "version": 2
   },
   "file_extension": ".py",
   "mimetype": "text/x-python",
   "name": "python",
   "nbconvert_exporter": "python",
   "pygments_lexer": "ipython2",
   "version": "2.7.12"
  }
 },
 "nbformat": 4,
 "nbformat_minor": 1
}
